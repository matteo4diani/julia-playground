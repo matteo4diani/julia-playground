{
 "cells": [
  {
   "cell_type": "markdown",
   "id": "6506ca2b-63c4-4648-8f0e-158cd40793c1",
   "metadata": {},
   "source": [
    "# Introduction\n",
    "\n",
    "Given a $3$-dimensional system of $N$ particles obeying $\\alpha$ independent constraints, its degrees of freedom are $3N - \\alpha$, and we can express its Hamiltonian $H(q, p)$ as a function of some coordinates $\\begin{pmatrix}q_{i} \\\\ p_{i} \\end{pmatrix}$, where $i = 1, ..., \\ 3N - \\alpha$.\n",
    "\n",
    "$$\n",
    "\\left\\{\n",
    "    \\begin{array}\\\\\n",
    "        \\dot{q}_{i} = \\frac{\\partial H}{\\partial p_{i}} \\\\\n",
    "        \\dot{p}_{i} = - \\frac{\\partial H}{\\partial q_{i}}\n",
    "    \\end{array}\n",
    "\\right.\n",
    "$$\n",
    "\n",
    "In a closed system, $H = E \\ $ where $E \\in \\mathbb{R}$. In the fixed-energy shells that we consider in statistical mechanics this is an important assumption.\n",
    "In the real world, there's always some wiggle room for our shells: \n",
    "$$\\mbox{Uncertainty}=\\Delta \\implies E - \\Delta \\leq H \\leq E + \\Delta$$"
   ]
  }
 ],
 "metadata": {
  "kernelspec": {
   "display_name": "Julia 1.8.4",
   "language": "julia",
   "name": "julia-1.8"
  },
  "language_info": {
   "file_extension": ".jl",
   "mimetype": "application/julia",
   "name": "julia",
   "version": "1.8.4"
  }
 },
 "nbformat": 4,
 "nbformat_minor": 5
}
