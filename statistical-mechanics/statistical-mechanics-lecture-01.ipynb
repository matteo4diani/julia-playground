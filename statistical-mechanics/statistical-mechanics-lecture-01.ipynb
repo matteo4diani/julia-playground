{
 "cells": [
  {
   "cell_type": "markdown",
   "id": "6506ca2b-63c4-4648-8f0e-158cd40793c1",
   "metadata": {},
   "source": [
    "# Introduction\n",
    "\n",
    "Given a $3$-dimensional system of $N$ particles obeying $\\alpha$ independent constraints, its degrees of freedom are $3N - \\alpha$, and we can express its Hamiltonian $H(q, p)$ as a function of some coordinates $\\begin{pmatrix}q_{i} \\\\ p_{i} \\end{pmatrix}$, where $i = 1, ..., \\ 3N - \\alpha$.\n",
    "\n",
    "$$\n",
    "\\left\\{\n",
    "    \\begin{array}\\\\\n",
    "        \\dot{q}_{i} = \\frac{\\partial H}{\\partial p_{i}} \\\\\n",
    "        \\dot{p}_{i} = - \\frac{\\partial H}{\\partial q_{i}}\n",
    "    \\end{array}\n",
    "\\right.\n",
    "$$\n",
    "\n",
    "In a closed system, $H = E \\ $ where $E \\in \\mathbb{R}$. In the fixed-energy shells that we consider in statistical mechanics this is an important assumption. \n",
    "In the real world, there's always some wiggle room for our shells: \n",
    "$$\\mbox{Uncertainty}=\\Delta \\implies E - \\Delta \\leq H \\leq E + \\Delta$$\n",
    "\n",
    "We are not concerned with the position and velocity of each particle: statistical mechanics aims to measure and predict macroscopic quantities as statistical realizations of microscopic processes. \n",
    "\n",
    "To achieve this we can express the information we have about a system in terms of a \"density of particles in the neighborhood of a given $q$ and $p$\": \n",
    "\n",
    "$$\n",
    "\\rho(q,p) \\ \\mathrm{d^{3N}}q \\ \\mathrm{d^{3N}}p\n",
    "$$\n",
    "\n",
    "In many real-world cases $\\rho=\\rho(q,p \\ ;t)$.\n",
    "\n",
    "So, if we would like to know the number of micro-states which are compatible with a given macro-state $\\{N, V, E\\}$, we can compute:\n",
    "\n",
    "$$\n",
    "\\Gamma(N, V, E) = \\int_{E - \\Delta \\leq H \\leq E + \\Delta} \\! \\rho(q,p \\ ;t) \\, \\mathrm{d^{3N}}q \\ \\mathrm{d^{3N}}p\n",
    "$$\n",
    "\n",
    "The dependency from $N$ is in the differential element $\\mathrm{d^{3N}}q \\ \\mathrm{d^{3N}}p$, and the dependency from $E$ is in the integration domain $E - \\Delta \\leq H \\leq E + \\Delta$.\n",
    "\n",
    "If we want to compute a function $f(q,p)$ we can use a similar reasoning to obtain:\n",
    "\n",
    "$$\n",
    "\\langle f \\rangle_t = \\frac{\\int_{E - \\Delta \\leq H \\leq E + \\Delta} \\! f(q,p) \\ \\rho(q,p \\ ;t) \\, \\mathrm{d^{3N}}q \\ \\mathrm{d^{3N}}p}{\\int_{E - \\Delta \\leq H \\leq E + \\Delta} \\! \\rho(q,p \\ ;t) \\, \\mathrm{d^{3N}}q \\ \\mathrm{d^{3N}}p}\n",
    "$$\n",
    "\n"
   ]
  }
 ],
 "metadata": {
  "kernelspec": {
   "display_name": "Julia 1.8.4",
   "language": "julia",
   "name": "julia-1.8"
  },
  "language_info": {
   "file_extension": ".jl",
   "mimetype": "application/julia",
   "name": "julia",
   "version": "1.8.4"
  }
 },
 "nbformat": 4,
 "nbformat_minor": 5
}
