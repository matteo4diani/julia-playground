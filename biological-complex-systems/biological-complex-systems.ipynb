{
 "cells": [
  {
   "cell_type": "markdown",
   "id": "7a31a16a-c0e4-4af1-820f-61d7b8dfb734",
   "metadata": {},
   "source": [
    "# Introduction\n",
    "\n",
    "The introductory lectures will cover the genomic revolution with a focus on contributions from mathematicians and physicists.\n",
    "\n",
    "> There is no precise technical definition of a \"complex system\", but most researchers in the field would probably agree that it is a system composed of many interacting parts, such that the collective behavior of those parts together is more than the sum of their individual behaviors. The collective behaviors are sometimes called \"emergent\" behaviors, and a compex system can thus be said to be a system of interacting parts that displays emergent behavior.\n",
    ">\n",
    ">_M. E. Newman, \"Complex Systems: a survey\"_\n",
    "\n",
    "## DNA\n",
    "\n",
    "- Genomic information is encoded in DNA chains.\n",
    "- The human genome comprises $3x10^9$ base pairs which can take four possible values: $(A, C, G, T)$. They can be interpreted as a 2-bit alphabet, hence: $3 \\times 10^9 \\times 2\\,\\mbox{Bit}= 0.75\\,\\mbox{Gigabyte}$.\n",
    "- The main property of DNA is base pairing: bases can pair inter-filament only as $(A, T)$ or $(C, G)$: this allows DNA replication and template-based protein production.\n",
    "- $(A, T)$ form 2 $H$-bonds, $(C, G)$ form 3 $H$-bonds: DNA strands rich in $(C, G)$ pairs are harder to separate.\n",
    "- Intra-filament bonds are covalent and orders of magnitude stronger than $H$-bonds.\n",
    "- All molecular machines (polymerase, transcriptase, _etc._) traverse a DNA strand in a fixed sense, going from a start signal to an end signal, respectively known as $5\\mbox{'}$ and $3\\mbox{'}$. These numbers refer to the position of the dangling $C$ atom at the end of an unpaired DNA filament.\n",
    "- On a paired DNA filament, the two strands have complementary $5\\mbox{'}$ and $3\\mbox{'}$ points, thus DNA sequences should show functional invariance upon sequence inversion. \n",
    "- The human genome comprises 22 autosomes, 2 sexual chromosomes, and a small portion of mitochondrial DNA: mithochondrial DNA is transmitted through the mother and can be used to accurately trace female population and community traits across long timescales, the same goes for males and the $Y$ chromosome.\n",
    "\n",
    "## Gene structure\n",
    "\n",
    "- Genes can range from $\\sim100$ bases, as for $\\mu RNA$, to millions of bases, spanning several orders of magnitude in length variance.\n",
    "- The number of coding genes is not a useful predictor of biological complexity, actually humans have roughly the same number of coding genes as terrestrial worms.\n",
    "- Genome length is an accurate predictor of an organism's complexity and size.\n",
    "- $97\\%$ of the human genome is non-coding, meaning that it doesn't directly represent a protein, rather it regulates protein expression.\n",
    "- Genes are composed by coding blocks named exons, intersparsed by long non-coding sequences called introns.\n",
    "- During $mRNA$ maturation (splicing) only exons are transcribed, but they are expressed in different permutations, thus giving rise to several proteins coded by a single gene, a process called alternative splicing.\n",
    "- Introns, $5\\mbox{'}$, and $3\\mbox{'}$ contain instructions for gene expression.\n",
    "\n",
    "## Gene expression\n",
    "\n",
    "Gene expression comprises of 3 phases:\n",
    "\n",
    "- Transcription from DNA to mRNA\n",
    "- Splicing or mRNA maturation\n",
    "- Translation from mature RNA to protein "
   ]
  }
 ],
 "metadata": {
  "kernelspec": {
   "display_name": "Julia 1.8.4",
   "language": "julia",
   "name": "julia-1.8"
  },
  "language_info": {
   "file_extension": ".jl",
   "mimetype": "application/julia",
   "name": "julia",
   "version": "1.8.4"
  }
 },
 "nbformat": 4,
 "nbformat_minor": 5
}
