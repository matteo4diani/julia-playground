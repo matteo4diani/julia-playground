{
 "cells": [
  {
   "cell_type": "markdown",
   "id": "7a31a16a-c0e4-4af1-820f-61d7b8dfb734",
   "metadata": {},
   "source": [
    "# Introduction\n",
    "\n",
    "The introductory lectures will cover the genomic revolution with a focus on contributions from mathematicians and physicists.\n",
    "\n",
    "> There is no precise technical definition of a \"complex system\", but most researchers in the field would probably agree that it is a system composed of many interacting parts, such that the collective behavior of those parts together is more than the sum of their individual behaviors. The collective behaviors are sometimes called \"emergent\" behaviors, and a compex system can thus be said to be a system of interacting parts that displays emergent behavior.\n",
    ">\n",
    ">_M. E. Newman, \"Complex Systems: a survey\"_"
   ]
  }
 ],
 "metadata": {
  "kernelspec": {
   "display_name": "Julia 1.8.4",
   "language": "julia",
   "name": "julia-1.8"
  },
  "language_info": {
   "file_extension": ".jl",
   "mimetype": "application/julia",
   "name": "julia",
   "version": "1.8.4"
  }
 },
 "nbformat": 4,
 "nbformat_minor": 5
}
